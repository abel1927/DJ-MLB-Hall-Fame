{
 "cells": [
  {
   "cell_type": "code",
   "execution_count": 1,
   "metadata": {},
   "outputs": [],
   "source": [
    "#Execute this cell if have problem with relative import\n",
    "\n",
    "import sys; sys.path.insert(0, '..')"
   ]
  },
  {
   "cell_type": "code",
   "execution_count": 2,
   "metadata": {},
   "outputs": [],
   "source": [
    "import matplotlib.pyplot as plt\n",
    "plt.style.use('seaborn')\n",
    "import numpy as np\n",
    "import pandas as pd\n",
    "#pd.set_option('display.max_columns', None)\n",
    "import json"
   ]
  },
  {
   "cell_type": "code",
   "execution_count": 4,
   "metadata": {},
   "outputs": [],
   "source": [
    "from pprint import pprint"
   ]
  },
  {
   "cell_type": "code",
   "execution_count": 3,
   "metadata": {},
   "outputs": [],
   "source": [
    "players = {}\n",
    "with open(\"../Data/jsons/hof_players.json\", 'r')  as json_file:\n",
    "    players:dict = json.load(json_file)"
   ]
  },
  {
   "cell_type": "code",
   "execution_count": 5,
   "metadata": {},
   "outputs": [],
   "source": [
    "l = []\n",
    "for k in players.keys():\n",
    "    l.append(k)"
   ]
  },
  {
   "cell_type": "code",
   "execution_count": 6,
   "metadata": {},
   "outputs": [
    {
     "name": "stdout",
     "output_type": "stream",
     "text": [
      "['Henry_Aaron_2',\n",
      " 'Luis_Aparicio_489',\n",
      " 'Cap_Anson_479',\n",
      " 'Richie_Ashburn_600',\n",
      " 'Earl_Averill_672',\n",
      " 'Roberto_Alomar_301',\n",
      " 'Luke_Appling_498',\n",
      " 'Pete_Alexander_208',\n",
      " 'Johnny_Bench_1364',\n",
      " 'Lou_Boudreau_1975',\n",
      " 'Lou_Brock_2306',\n",
      " 'Roger_Bresnahan_2213',\n",
      " 'Dan_Brouthers_2351',\n",
      " 'Dave_Bancroft_860',\n",
      " 'Wade_Boggs_1819',\n",
      " 'Willard_Brown_2477',\n",
      " 'Jeff_Bagwell_741',\n",
      " 'Home_Run_Baker_798',\n",
      " 'Mordecai_Brown_2449',\n",
      " 'Yogi_Berra_1476',\n",
      " 'Charles_Bender_1366',\n",
      " 'Cool_Papa_Bell_1305',\n",
      " 'Craig_Biggio_1572',\n",
      " 'Ernie_Banks_874',\n",
      " 'Jesse_Burkett_2682',\n",
      " 'Harold_Baines_771',\n",
      " 'Jake_Beckley_1246',\n",
      " 'Jim_Bottomley_1968',\n",
      " 'Ray_Brown_2459',\n",
      " 'Jim_Bunning_2620',\n",
      " 'George_Brett_2218',\n",
      " 'Bert_Blyleven_1782',\n",
      " 'Max_Carey_3078',\n",
      " 'Stan_Coveleski_4237',\n",
      " 'Roy_Campanella_2963',\n",
      " 'Kiki_Cuyler_4586',\n",
      " 'Jack_Chesbro_3497',\n",
      " 'Roberto_Clemente_3736',\n",
      " 'Sam_Crawford_4332',\n",
      " 'Frank_Chance_3419',\n",
      " 'Fred_Clarke_3681',\n",
      " 'Earle_Combs_3943',\n",
      " 'Eddie_Collins_3902',\n",
      " 'Gary_Carter_3197',\n",
      " 'John_Clarkson_3699',\n",
      " 'Rod_Carew_3076',\n",
      " 'Roger_Connor_4008',\n",
      " 'Steve_Carlton_3108',\n",
      " 'Jimmy_Collins_3907',\n",
      " 'Ty_Cobb_3789',\n",
      " 'Orlando_Cepeda_3371',\n",
      " 'Oscar_Charleston_3460',\n",
      " 'Mickey_Cochrane_3796',\n",
      " 'Joe_Cronin_4403',\n",
      " 'Andy_Cooper_4086',\n",
      " 'Bill_Dickey_5198',\n",
      " 'Martín_Dihigo_5230',\n",
      " 'Joe_DiMaggio_5250',\n",
      " 'Leon_Day_4876',\n",
      " 'Bobby_Doerr_5317',\n",
      " 'George_Davis_4789',\n",
      " 'Ed_Delahanty_5009',\n",
      " 'Dizzy_Dean_4935',\n",
      " 'Don_Drysdale_5533',\n",
      " 'Andre_Dawson_4865',\n",
      " 'Ray_Dandridge_4654',\n",
      " 'Larry_Doby_5308',\n",
      " 'Hugh_Duffy_5570',\n",
      " 'Dennis_Eckersley_5763',\n",
      " 'Buck_Ewing_6107',\n",
      " 'Johnny_Evers_6102',\n",
      " 'Jimmie_Foxx_6708',\n",
      " 'Elmer_Flick_6521',\n",
      " 'Nellie_Fox_6704',\n",
      " 'Carlton_Fisk_6447',\n",
      " 'Bill_Foster_6654',\n",
      " 'Frankie_Frisch_6837',\n",
      " 'Rick_Ferrell_6300',\n",
      " 'Rollie_Fingers_6385',\n",
      " 'Bob_Feller_6253',\n",
      " 'Whitey_Ford_6621',\n",
      " 'Red_Faber_6121',\n",
      " 'Lou_Gehrig_7216',\n",
      " 'Bob_Gibson_7309',\n",
      " 'Josh_Gibson_7316',\n",
      " 'Vladimir_Guerrero_8046',\n",
      " 'Hank_Greenberg_7863',\n",
      " 'Charlie_Gehringer_7218',\n",
      " 'Tom_Glavine_7466',\n",
      " 'Pud_Galvin_6988',\n",
      " 'Rich_Gossage_7702',\n",
      " 'Goose_Goslin_7699',\n",
      " 'Joe_Gordon_7669',\n",
      " 'Ken_Griffey_Jr._7920',\n",
      " 'Tony_Gwynn_8131',\n",
      " 'Lefty_Gomez_7566',\n",
      " 'Lefty_Grove_8005',\n",
      " 'Burleigh_Grimes_7959',\n",
      " 'Harry_Heilmann_8780',\n",
      " 'Harry_Hooper_9419',\n",
      " 'Gabby_Hartnett_8580',\n",
      " 'Trevor_Hoffman_9285',\n",
      " 'Gil_Hodges_9252',\n",
      " 'Chick_Hafey_8166',\n",
      " 'Pete_Hill_9161',\n",
      " 'Roy_Halladay_8255',\n",
      " 'Jesse_Haines_8191',\n",
      " 'Rogers_Hornsby_9458',\n",
      " 'Rickey_Henderson_8852',\n",
      " 'Waite_Hoyt_9578',\n",
      " 'Carl_Hubbell_9592',\n",
      " 'Catfish_Hunter_9719',\n",
      " 'Billy_Hamilton_8281',\n",
      " 'Billy_Herman_8934',\n",
      " 'Monte_Irvin_9823',\n",
      " 'Addie_Joss_10475',\n",
      " 'Derek_Jeter_10074',\n",
      " 'Reggie_Jackson_9899',\n",
      " 'Fergie_Jenkins_10039',\n",
      " 'Randy_Johnson_10245',\n",
      " 'Hughie_Jennings_10056',\n",
      " 'Chipper_Jones_10334',\n",
      " 'Judy_Johnson_10210',\n",
      " 'Travis_Jackson_9913',\n",
      " 'Walter_Johnson_10277',\n",
      " 'Al_Kaline_10543',\n",
      " 'Harmon_Killebrew_10852',\n",
      " 'Joe_Kelley_10676',\n",
      " 'George_Kell_10657',\n",
      " 'Ralph_Kiner_10887',\n",
      " 'Chuck_Klein_10986',\n",
      " 'Jim_Kaat_10521',\n",
      " 'Tim_Keefe_10628',\n",
      " 'Willie_Keeler_10631',\n",
      " 'King_Kelly_10709',\n",
      " 'High_Pockets_Kelly_10700',\n",
      " 'Sandy_Koufax_11164',\n",
      " 'Barry_Larkin_11467',\n",
      " 'Ernie_Lombardi_12036',\n",
      " 'Nap_Lajoie_11345',\n",
      " 'Ted_Lyons_12310',\n",
      " 'Bob_Lemon_11700',\n",
      " 'Tony_Lazzeri_11572',\n",
      " 'Buck_Leonard_11726',\n",
      " 'Freddie_Lindstrom_11894',\n",
      " 'John_Henry_Lloyd_11965',\n",
      " 'Heinie_Manush_12601',\n",
      " 'Biz_Mackey_12367',\n",
      " 'José_Mendéz_13624',\n",
      " 'Stan_Musial_14594',\n",
      " 'Rabbit_Maranville_12614',\n",
      " 'Johnny_Mize_14021',\n",
      " 'Bill_Mazeroski_13012',\n",
      " 'Willie_Mays_13003',\n",
      " 'Willie_McCovey_13162',\n",
      " 'Paul_Molitor_14059',\n",
      " 'Pedro_Martinez_12801',\n",
      " 'Greg_Maddux_12396',\n",
      " 'Bid_McPhee_13495',\n",
      " 'Jack_Morris_14312',\n",
      " 'Eddie_Mathews_12873',\n",
      " 'Joe_McGinnity_13302',\n",
      " 'Joe_Medwick_13558',\n",
      " 'Joe_Morgan_14267',\n",
      " 'Christy_Mathewson_12878',\n",
      " 'Juan_Marichal_12628',\n",
      " 'Rube_Marquard_12656',\n",
      " 'Tommy_McCarthy_13097',\n",
      " 'Eddie_Murray_14569',\n",
      " 'Edgar_Martinez_12779',\n",
      " 'Mike_Mussina_14601',\n",
      " 'Minnie_Minoso_13960',\n",
      " 'Mickey_Mantle_12592',\n",
      " 'Phil_Niekro_14869',\n",
      " 'Hal_Newhouser_14803',\n",
      " 'Kid_Nichols_14841',\n",
      " 'Tony_Oliva_15203',\n",
      " 'Rourke_15115',\n",
      " 'Mel_Ott_15361',\n",
      " 'David_Ortiz_15299',\n",
      " 'Mike_Piazza_16075',\n",
      " 'Satchel_Paige_15470',\n",
      " 'Tony_Perez_15886',\n",
      " 'Herb_Pennock_15814',\n",
      " 'Gaylord_Perry_15922',\n",
      " 'Eddie_Plank_16194',\n",
      " 'Kirby_Puckett_16458',\n",
      " 'Jim_Palmer_15493',\n",
      " 'Robin_Roberts_17240',\n",
      " 'Ivan_Rodriguez_17380',\n",
      " 'Brooks_Robinson_17278',\n",
      " 'Bullet_Rogan_17427',\n",
      " 'Cal_Ripken_Jr._17143',\n",
      " 'Tim_Raines_16601',\n",
      " 'Frank_Robinson_17293',\n",
      " 'Phil_Rizzuto_17198',\n",
      " 'Mariano_Rivera_17181',\n",
      " 'Sam_Rice_17016',\n",
      " 'Eppa_Rixey_17194',\n",
      " 'Red_Ruffing_17704',\n",
      " 'Jackie_Robinson_17302',\n",
      " 'Pee_Wee_Reese_16829',\n",
      " 'Babe_Ruth_17764',\n",
      " 'Edd_Roush_17637',\n",
      " 'Amos_Rusie_17732',\n",
      " 'Jim_Rice_17013',\n",
      " 'Nolan_Ryan_17793',\n",
      " 'Old_Hoss_Radbourn_16571',\n",
      " 'Ron_Santo_17999',\n",
      " 'Ted_Simmons_18754',\n",
      " 'Ozzie_Smith_19061',\n",
      " 'Red_Schoendienst_18210',\n",
      " 'Tris_Speaker_19279',\n",
      " 'Turkey_Stearnes_19473',\n",
      " 'Al_Simmons_18743',\n",
      " 'Don_Sutton_19894',\n",
      " 'Tom_Seaver_18362',\n",
      " 'Warren_Spahn_19263',\n",
      " 'Joe_Sewell_18455',\n",
      " 'Ray_Schalk_18109',\n",
      " 'Mule_Suttles_19893',\n",
      " 'Duke_Snider_19142',\n",
      " 'Enos_Slaughter_18860',\n",
      " 'Lee_Smith_19041',\n",
      " 'Ryne_Sandberg_17936',\n",
      " 'Mike_Schmidt_18193',\n",
      " 'Willie_Stargell_19446',\n",
      " 'Louis_Santop_18001',\n",
      " 'George_Sisler_18809',\n",
      " 'John_Smoltz_19118',\n",
      " 'Hilton_Smith_19012',\n",
      " 'Bruce_Sutter_19891',\n",
      " 'Alan_Trammell_20584',\n",
      " 'Sam_Thompson_20363',\n",
      " 'Bill_Terry_20199',\n",
      " 'Frank_Thomas_20274',\n",
      " 'Pie_Traynor_20597',\n",
      " 'Jim_Thome_20314',\n",
      " 'Joe_Tinker_20442',\n",
      " 'Cristóbal_Torriente_20550',\n",
      " 'Ben_Taylor_20084',\n",
      " 'Arky_Vaughan_20947',\n",
      " 'Dazzy_Vance_20906',\n",
      " 'Larry_Walker_21220',\n",
      " 'Ed_Walsh_21288',\n",
      " 'John_Ward_21344',\n",
      " 'Rube_Waddell_21126',\n",
      " 'Jud_Wilson_22106',\n",
      " 'Lloyd_Waner_21321',\n",
      " 'Dave_Winfield_22157',\n",
      " 'Deacon_White_21709',\n",
      " 'Early_Wynn_22427',\n",
      " 'Paul_Waner_21322',\n",
      " 'Honus_Wagner_21152',\n",
      " 'Hoyt_Wilhelm_21837',\n",
      " 'Bobby_Wallace_21256',\n",
      " 'Mickey_Welch_21557',\n",
      " 'Willie_Wells_21589',\n",
      " 'Ted_Williams_21996',\n",
      " 'Hack_Wilson_22089',\n",
      " 'Joe_Williams_21940',\n",
      " 'Vic_Willis_22028',\n",
      " 'Zack_Wheat_21663',\n",
      " 'Billy_Williams_21882',\n",
      " 'Robin_Yount_22574',\n",
      " 'Ross_Youngs_22570',\n",
      " 'Carl_Yastrzemski_22459',\n",
      " 'Cy_Young_22523']\n"
     ]
    }
   ],
   "source": [
    "pprint(l)"
   ]
  },
  {
   "cell_type": "code",
   "execution_count": 4,
   "metadata": {},
   "outputs": [
    {
     "data": {
      "text/plain": [
       "268"
      ]
     },
     "execution_count": 4,
     "metadata": {},
     "output_type": "execute_result"
    }
   ],
   "source": [
    "len(players)"
   ]
  },
  {
   "cell_type": "code",
   "execution_count": 8,
   "metadata": {},
   "outputs": [],
   "source": [
    "negro_league_comitte = {}\n",
    "veterans_commitee = {}\n",
    "old_time_commitee = {}\n",
    "special_election = {}\n",
    "bbwaa = {}"
   ]
  },
  {
   "cell_type": "code",
   "execution_count": 9,
   "metadata": {},
   "outputs": [],
   "source": [
    "for k in players.keys():\n",
    "    if players[k][\"HoF comittee\"] == 'BBWAA':\n",
    "        bbwaa[k] = players[k]\n",
    "    elif players[k][\"HoF comittee\"] == 'Old Timers Committee':\n",
    "        old_time_commitee[k] = players[k]\n",
    "    elif players[k][\"HoF comittee\"] == \"Veteran's Committee\":\n",
    "        veterans_commitee[k] = players[k]\n",
    "    elif players[k][\"HoF comittee\"] == 'Negro League Committee':\n",
    "        negro_league_comitte[k] = players[k]\n",
    "    elif players[k][\"HoF comittee\"] == 'Special Election':\n",
    "        special_election[k] = players[k]"
   ]
  },
  {
   "cell_type": "code",
   "execution_count": 10,
   "metadata": {},
   "outputs": [
    {
     "data": {
      "text/plain": [
       "20"
      ]
     },
     "execution_count": 10,
     "metadata": {},
     "output_type": "execute_result"
    }
   ],
   "source": [
    "len(negro_league_comitte)"
   ]
  },
  {
   "cell_type": "code",
   "execution_count": 11,
   "metadata": {},
   "outputs": [
    {
     "data": {
      "text/plain": [
       "133"
      ]
     },
     "execution_count": 11,
     "metadata": {},
     "output_type": "execute_result"
    }
   ],
   "source": [
    "len(bbwaa)"
   ]
  },
  {
   "cell_type": "code",
   "execution_count": 12,
   "metadata": {},
   "outputs": [
    {
     "data": {
      "text/plain": [
       "24"
      ]
     },
     "execution_count": 12,
     "metadata": {},
     "output_type": "execute_result"
    }
   ],
   "source": [
    "len(old_time_commitee)"
   ]
  },
  {
   "cell_type": "code",
   "execution_count": 13,
   "metadata": {},
   "outputs": [
    {
     "data": {
      "text/plain": [
       "2"
      ]
     },
     "execution_count": 13,
     "metadata": {},
     "output_type": "execute_result"
    }
   ],
   "source": [
    "len(special_election)"
   ]
  },
  {
   "cell_type": "code",
   "execution_count": 15,
   "metadata": {},
   "outputs": [
    {
     "data": {
      "text/plain": [
       "{'Roberto_Clemente_3736': {'Id': 'Roberto_Clemente_3736',\n",
       "  'Name': 'Roberto Clemente',\n",
       "  'Active': False,\n",
       "  'First year': 1955,\n",
       "  'Last year': 1972,\n",
       "  'Url': 'https://www.baseball-reference.com//players/c/clemero01.shtml',\n",
       "  'Country': 'pr',\n",
       "  'Positions': ['RF'],\n",
       "  'Bat hand': 'Right',\n",
       "  'Throw hand': 'Right',\n",
       "  'Full Name': 'Roberto Clemente',\n",
       "  'HoF': 1,\n",
       "  'HoF type': 'Player',\n",
       "  'HoF year': '1973',\n",
       "  'HoF comittee': 'Special Election',\n",
       "  'batter_stats': {'G': 2433.0,\n",
       "   'PA': 10212.0,\n",
       "   'AB': 9454.0,\n",
       "   'R': 1416.0,\n",
       "   'H': 3000.0,\n",
       "   '2B': 440.0,\n",
       "   '3B': 166.0,\n",
       "   'HR': 240.0,\n",
       "   'RBI': 1305.0,\n",
       "   'SB': 83.0,\n",
       "   'CS': 46.0,\n",
       "   'BB': 621.0,\n",
       "   'SO': 1230.0,\n",
       "   'BA': 0.317,\n",
       "   'OBP': 0.359,\n",
       "   'SLG': 0.475,\n",
       "   'OPS': 0.834,\n",
       "   'OPS+': 130.0,\n",
       "   'TB': 4492.0,\n",
       "   'HBP': 35.0,\n",
       "   'SH': 36.0,\n",
       "   'SF': 66.0,\n",
       "   'IBB': 167.0,\n",
       "   'Rbat': 377.0,\n",
       "   'Rbaser': 23.0,\n",
       "   'Rdp': 10.0,\n",
       "   'Rfield': 205.0,\n",
       "   'Rpos': -102.0,\n",
       "   'RAA': 513.0,\n",
       "   'WAA': 57.2,\n",
       "   'Rrep': 369.0,\n",
       "   'RAR': 881.0,\n",
       "   'WAR': 94.8,\n",
       "   'oWAR': 71.6,\n",
       "   'dWAR': 12.2,\n",
       "   'oRAR': 677.0},\n",
       "  'pitcher_stats': {},\n",
       "  'field_stats': {'G': 4765.0,\n",
       "   'GS': 4598.0,\n",
       "   'CG': 4358.0,\n",
       "   'Inn': 41022.2,\n",
       "   'PO': 9307.0,\n",
       "   'A': 529.0,\n",
       "   'E': 282.0,\n",
       "   'DP': 85.0,\n",
       "   'Ch': 10118.0,\n",
       "   'Fld%': 0.972,\n",
       "   'RF/9': 2.16,\n",
       "   'RF/G': 2.06},\n",
       "  'Player type': 2,\n",
       "  'retirement_age': 37,\n",
       "  'total_seasons': 18,\n",
       "  'career_teams': ['PIT'],\n",
       "  'career_leagues': ['NL'],\n",
       "  'play_in_mayors': 1,\n",
       "  'play_in_negro_league': 0,\n",
       "  'two_way_player': 0,\n",
       "  'first_position': 'RF',\n",
       "  'debut_decade': 1950,\n",
       "  'retirament_decade': 1970,\n",
       "  'second_position': '-'},\n",
       " 'Lou_Gehrig_7216': {'Id': 'Lou_Gehrig_7216',\n",
       "  'Name': 'Lou Gehrig',\n",
       "  'Active': False,\n",
       "  'First year': 1923,\n",
       "  'Last year': 1939,\n",
       "  'Url': 'https://www.baseball-reference.com//players/g/gehrilo01.shtml',\n",
       "  'Country': 'us',\n",
       "  'Positions': ['1B'],\n",
       "  'Bat hand': 'Left',\n",
       "  'Throw hand': 'Left',\n",
       "  'Full Name': 'Henry Louis Gehrig',\n",
       "  'HoF': 1,\n",
       "  'HoF type': 'Player',\n",
       "  'HoF year': '1939',\n",
       "  'HoF comittee': 'Special Election',\n",
       "  'batter_stats': {'G': 2164.0,\n",
       "   'PA': 9665.0,\n",
       "   'AB': 8001.0,\n",
       "   'R': 1888.0,\n",
       "   'H': 2721.0,\n",
       "   '2B': 534.0,\n",
       "   '3B': 163.0,\n",
       "   'HR': 493.0,\n",
       "   'RBI': 1995.0,\n",
       "   'SB': 102.0,\n",
       "   'CS': 100.0,\n",
       "   'BB': 1508.0,\n",
       "   'SO': 790.0,\n",
       "   'BA': 0.34,\n",
       "   'OBP': 0.447,\n",
       "   'SLG': 0.632,\n",
       "   'OPS': 1.08,\n",
       "   'OPS+': 179.0,\n",
       "   'TB': 5060.0,\n",
       "   'HBP': 45.0,\n",
       "   'SH': 106.0,\n",
       "   'SF': '',\n",
       "   'IBB': 102.0,\n",
       "   'Rbat': 958.0,\n",
       "   'Rbaser': -5.0,\n",
       "   'Rdp': 18.0,\n",
       "   'Rfield': 2.0,\n",
       "   'Rpos': -99.0,\n",
       "   'RAA': 873.0,\n",
       "   'WAA': 78.9,\n",
       "   'Rrep': 349.0,\n",
       "   'RAR': 1222.0,\n",
       "   'WAR': 113.6,\n",
       "   'oWAR': 113.6,\n",
       "   'dWAR': -9.0,\n",
       "   'oRAR': 1220.0},\n",
       "  'pitcher_stats': {},\n",
       "  'field_stats': {'G': 2156.0,\n",
       "   'GS': 2141.0,\n",
       "   'CG': 2079.0,\n",
       "   'Inn': 18895.0,\n",
       "   'PO': 19538.0,\n",
       "   'A': 1087.0,\n",
       "   'E': 199.0,\n",
       "   'DP': 1575.0,\n",
       "   'Ch': 20824.0,\n",
       "   'Fld%': 0.99,\n",
       "   'RF/9': 9.82,\n",
       "   'RF/G': 9.57},\n",
       "  'Player type': 2,\n",
       "  'retirement_age': 36,\n",
       "  'total_seasons': 17,\n",
       "  'career_teams': ['NYY'],\n",
       "  'career_leagues': ['AL'],\n",
       "  'play_in_mayors': 1,\n",
       "  'play_in_negro_league': 0,\n",
       "  'two_way_player': 0,\n",
       "  'first_position': '1B',\n",
       "  'debut_decade': 1920,\n",
       "  'retirament_decade': 1930,\n",
       "  'second_position': '-'}}"
      ]
     },
     "execution_count": 15,
     "metadata": {},
     "output_type": "execute_result"
    }
   ],
   "source": [
    "special_election"
   ]
  },
  {
   "cell_type": "code",
   "execution_count": 14,
   "metadata": {},
   "outputs": [
    {
     "data": {
      "text/plain": [
       "89"
      ]
     },
     "execution_count": 14,
     "metadata": {},
     "output_type": "execute_result"
    }
   ],
   "source": [
    "len(veterans_commitee)"
   ]
  },
  {
   "cell_type": "code",
   "execution_count": 19,
   "metadata": {},
   "outputs": [],
   "source": [
    "play_once_in_ngLg = 0\n",
    "positions = {}"
   ]
  },
  {
   "cell_type": "code",
   "execution_count": 20,
   "metadata": {},
   "outputs": [],
   "source": [
    "for k in players.keys():\n",
    "    if players[k][\"play_in_negro_league\"]:\n",
    "        play_once_in_ngLg+=1\n",
    "    if positions.get(players[k]['first_position']) == None:\n",
    "        positions[players[k]['first_position']] = 1\n",
    "    else:\n",
    "        positions[players[k]['first_position']] += 1"
   ]
  },
  {
   "cell_type": "code",
   "execution_count": 21,
   "metadata": {},
   "outputs": [
    {
     "data": {
      "text/plain": [
       "{'OF': 30,\n",
       " 'SS': 25,\n",
       " '1B': 27,\n",
       " 'CF': 19,\n",
       " '2B': 20,\n",
       " 'P': 83,\n",
       " 'C': 19,\n",
       " 'LF': 10,\n",
       " '3B': 15,\n",
       " 'DH': 5,\n",
       " 'RF': 15}"
      ]
     },
     "execution_count": 21,
     "metadata": {},
     "output_type": "execute_result"
    }
   ],
   "source": [
    "positions"
   ]
  },
  {
   "cell_type": "code",
   "execution_count": null,
   "metadata": {},
   "outputs": [],
   "source": []
  },
  {
   "cell_type": "code",
   "execution_count": null,
   "metadata": {},
   "outputs": [],
   "source": []
  },
  {
   "cell_type": "code",
   "execution_count": null,
   "metadata": {},
   "outputs": [],
   "source": []
  },
  {
   "cell_type": "code",
   "execution_count": null,
   "metadata": {},
   "outputs": [],
   "source": []
  },
  {
   "cell_type": "code",
   "execution_count": 18,
   "metadata": {},
   "outputs": [
    {
     "data": {
      "text/plain": [
       "33"
      ]
     },
     "execution_count": 18,
     "metadata": {},
     "output_type": "execute_result"
    }
   ],
   "source": [
    "play_once_in_ngLg"
   ]
  }
 ],
 "metadata": {
  "interpreter": {
   "hash": "916dbcbb3f70747c44a77c7bcd40155683ae19c65e1c03b4aa3499c5328201f1"
  },
  "kernelspec": {
   "display_name": "Python 3.8.10 64-bit",
   "language": "python",
   "name": "python3"
  },
  "language_info": {
   "codemirror_mode": {
    "name": "ipython",
    "version": 3
   },
   "file_extension": ".py",
   "mimetype": "text/x-python",
   "name": "python",
   "nbconvert_exporter": "python",
   "pygments_lexer": "ipython3",
   "version": "3.8.10"
  },
  "orig_nbformat": 4
 },
 "nbformat": 4,
 "nbformat_minor": 2
}
