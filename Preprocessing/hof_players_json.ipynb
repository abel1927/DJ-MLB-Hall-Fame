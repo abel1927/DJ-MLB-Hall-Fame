{
 "cells": [
  {
   "cell_type": "code",
   "execution_count": 1,
   "metadata": {},
   "outputs": [],
   "source": [
    "#Execute this cell if have problem with relative import\n",
    "\n",
    "import sys; sys.path.insert(0, '..')"
   ]
  },
  {
   "cell_type": "code",
   "execution_count": 2,
   "metadata": {},
   "outputs": [],
   "source": [
    "import json"
   ]
  },
  {
   "cell_type": "code",
   "execution_count": 20,
   "metadata": {},
   "outputs": [],
   "source": [
    "players_mlb = {}\n",
    "with open(\"../Data/mlb_players.json\", 'r') as json_file:\n",
    "    players_mlb:dict = json.load(json_file)"
   ]
  },
  {
   "cell_type": "code",
   "execution_count": 21,
   "metadata": {},
   "outputs": [],
   "source": [
    "hof_players = {}"
   ]
  },
  {
   "cell_type": "code",
   "execution_count": 22,
   "metadata": {},
   "outputs": [],
   "source": [
    "for pId in players_mlb.keys():\n",
    "    player = players_mlb[pId]\n",
    "    if player[\"HoF\"] == 1 and player['HoF type'] == 'Player':\n",
    "        hof_players[pId] = player"
   ]
  },
  {
   "cell_type": "code",
   "execution_count": 23,
   "metadata": {},
   "outputs": [],
   "source": [
    "for pId in hof_players.keys():\n",
    "    player = hof_players[pId]\n",
    "    b_stats = player[\"batter_stats\"]\n",
    "    f_stats = player[\"field_stats\"]\n",
    "    p_stats = player[\"pitcher_stats\"]\n",
    "    nb_stats = {}\n",
    "    nf_stats = {}\n",
    "    np_stats = {}\n",
    "    if player[\"Player type\"] == 2:\n",
    "        for stat in b_stats.keys():\n",
    "            if stat in [\"Age\", \"Lg\"]:\n",
    "                continue\n",
    "            if b_stats[stat].get('summary') != None:\n",
    "                nb_stats[stat] = b_stats[stat]['summary']\n",
    "        for stat in f_stats.keys():\n",
    "            if stat in [\"Age\", \"Lg\"]:\n",
    "                continue\n",
    "            if f_stats[stat].get('summary') != None:\n",
    "                nf_stats[stat] = f_stats[stat]['summary']\n",
    "    else:\n",
    "        for stat in p_stats.keys():\n",
    "            if stat in [\"Age\", \"Lg\"]:\n",
    "                continue\n",
    "            if p_stats[stat].get('summary') != None:\n",
    "                np_stats[stat] = p_stats[stat]['summary']\n",
    "    hof_players[pId][\"batter_stats\"] = nb_stats\n",
    "    hof_players[pId][\"pitcher_stats\"] = np_stats\n",
    "    hof_players[pId][\"field_stats\"] = nf_stats"
   ]
  },
  {
   "cell_type": "code",
   "execution_count": 7,
   "metadata": {},
   "outputs": [],
   "source": [
    "with open(\"../Data/jsons/hof_players.json\", 'w') as target:\n",
    "    json.dump(hof_players, target, indent=4)"
   ]
  },
  {
   "cell_type": "code",
   "execution_count": null,
   "metadata": {},
   "outputs": [],
   "source": []
  },
  {
   "cell_type": "code",
   "execution_count": null,
   "metadata": {},
   "outputs": [],
   "source": []
  },
  {
   "cell_type": "code",
   "execution_count": null,
   "metadata": {},
   "outputs": [],
   "source": []
  }
 ],
 "metadata": {
  "interpreter": {
   "hash": "916dbcbb3f70747c44a77c7bcd40155683ae19c65e1c03b4aa3499c5328201f1"
  },
  "kernelspec": {
   "display_name": "Python 3.8.10 64-bit",
   "language": "python",
   "name": "python3"
  },
  "language_info": {
   "codemirror_mode": {
    "name": "ipython",
    "version": 3
   },
   "file_extension": ".py",
   "mimetype": "text/x-python",
   "name": "python",
   "nbconvert_exporter": "python",
   "pygments_lexer": "ipython3",
   "version": "3.8.10"
  },
  "orig_nbformat": 4
 },
 "nbformat": 4,
 "nbformat_minor": 2
}
