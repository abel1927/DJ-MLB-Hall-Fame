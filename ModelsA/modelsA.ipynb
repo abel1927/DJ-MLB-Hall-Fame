{
 "cells": [
  {
   "cell_type": "code",
   "execution_count": 27,
   "metadata": {},
   "outputs": [],
   "source": [
    "#Execute this cell if have problem with relative import\n",
    "\n",
    "import sys; sys.path.insert(0, '..')"
   ]
  },
  {
   "cell_type": "code",
   "execution_count": 28,
   "metadata": {},
   "outputs": [],
   "source": [
    "from pprint import pprint"
   ]
  },
  {
   "cell_type": "code",
   "execution_count": 40,
   "metadata": {},
   "outputs": [],
   "source": [
    "import pandas as pd\n",
    "bat_df = pd.read_csv(\"../Data/Corpus_csv/batters_all_career.csv\")"
   ]
  },
  {
   "cell_type": "code",
   "execution_count": 30,
   "metadata": {},
   "outputs": [
    {
     "data": {
      "text/html": [
       "<div>\n",
       "<style scoped>\n",
       "    .dataframe tbody tr th:only-of-type {\n",
       "        vertical-align: middle;\n",
       "    }\n",
       "\n",
       "    .dataframe tbody tr th {\n",
       "        vertical-align: top;\n",
       "    }\n",
       "\n",
       "    .dataframe thead th {\n",
       "        text-align: right;\n",
       "    }\n",
       "</style>\n",
       "<table border=\"1\" class=\"dataframe\">\n",
       "  <thead>\n",
       "    <tr style=\"text-align: right;\">\n",
       "      <th></th>\n",
       "      <th>Id</th>\n",
       "      <th>Name</th>\n",
       "      <th>Active</th>\n",
       "      <th>First year</th>\n",
       "      <th>Last year</th>\n",
       "      <th>Url</th>\n",
       "      <th>Country</th>\n",
       "      <th>Bat hand</th>\n",
       "      <th>Throw hand</th>\n",
       "      <th>Full Name</th>\n",
       "      <th>...</th>\n",
       "      <th>Fld%_fd</th>\n",
       "      <th>GS_fd</th>\n",
       "      <th>G_fd</th>\n",
       "      <th>Inn_fd</th>\n",
       "      <th>PB_fd</th>\n",
       "      <th>PO_fd</th>\n",
       "      <th>RF/9_fd</th>\n",
       "      <th>RF/G_fd</th>\n",
       "      <th>SB_fd</th>\n",
       "      <th>WP_fd</th>\n",
       "    </tr>\n",
       "  </thead>\n",
       "  <tbody>\n",
       "    <tr>\n",
       "      <th>0</th>\n",
       "      <td>Aaron_Altherr_320</td>\n",
       "      <td>Aaron Altherr</td>\n",
       "      <td>False</td>\n",
       "      <td>2014</td>\n",
       "      <td>2019</td>\n",
       "      <td>https://www.baseball-reference.com//players/a/...</td>\n",
       "      <td>de</td>\n",
       "      <td>Right</td>\n",
       "      <td>Right</td>\n",
       "      <td>Aaron Samuel Altherr</td>\n",
       "      <td>...</td>\n",
       "      <td>0.989</td>\n",
       "      <td>494.0</td>\n",
       "      <td>669.0</td>\n",
       "      <td>4609.0</td>\n",
       "      <td>NaN</td>\n",
       "      <td>1068.0</td>\n",
       "      <td>2.14</td>\n",
       "      <td>1.64</td>\n",
       "      <td>0.0</td>\n",
       "      <td>NaN</td>\n",
       "    </tr>\n",
       "    <tr>\n",
       "      <th>1</th>\n",
       "      <td>Abe_Atkins_626</td>\n",
       "      <td>Abe Atkins</td>\n",
       "      <td>False</td>\n",
       "      <td>1923</td>\n",
       "      <td>1923</td>\n",
       "      <td>https://www.baseball-reference.com//players/a/...</td>\n",
       "      <td>us</td>\n",
       "      <td>desconocido</td>\n",
       "      <td>desconocido</td>\n",
       "      <td>Abe Atkins</td>\n",
       "      <td>...</td>\n",
       "      <td>0.000</td>\n",
       "      <td>1.0</td>\n",
       "      <td>1.0</td>\n",
       "      <td>5.0</td>\n",
       "      <td>NaN</td>\n",
       "      <td>0.0</td>\n",
       "      <td>0.00</td>\n",
       "      <td>0.00</td>\n",
       "      <td>NaN</td>\n",
       "      <td>NaN</td>\n",
       "    </tr>\n",
       "    <tr>\n",
       "      <th>2</th>\n",
       "      <td>Abiatal_Avelino_670</td>\n",
       "      <td>Abiatal Avelino</td>\n",
       "      <td>False</td>\n",
       "      <td>2018</td>\n",
       "      <td>2019</td>\n",
       "      <td>https://www.baseball-reference.com//players/a/...</td>\n",
       "      <td>do</td>\n",
       "      <td>Right</td>\n",
       "      <td>Right</td>\n",
       "      <td>Abiatal Avelino</td>\n",
       "      <td>...</td>\n",
       "      <td>0.955</td>\n",
       "      <td>6.0</td>\n",
       "      <td>7.0</td>\n",
       "      <td>43.2</td>\n",
       "      <td>NaN</td>\n",
       "      <td>10.0</td>\n",
       "      <td>4.38</td>\n",
       "      <td>3.00</td>\n",
       "      <td>NaN</td>\n",
       "      <td>NaN</td>\n",
       "    </tr>\n",
       "    <tr>\n",
       "      <th>3</th>\n",
       "      <td>Abraham_Almonte_292</td>\n",
       "      <td>Abraham Almonte</td>\n",
       "      <td>True</td>\n",
       "      <td>2013</td>\n",
       "      <td>2021</td>\n",
       "      <td>https://www.baseball-reference.com//players/a/...</td>\n",
       "      <td>do</td>\n",
       "      <td>Both</td>\n",
       "      <td>Right</td>\n",
       "      <td>Abraham Almonte</td>\n",
       "      <td>...</td>\n",
       "      <td>0.973</td>\n",
       "      <td>594.0</td>\n",
       "      <td>738.0</td>\n",
       "      <td>5299.1</td>\n",
       "      <td>NaN</td>\n",
       "      <td>1196.0</td>\n",
       "      <td>2.10</td>\n",
       "      <td>1.68</td>\n",
       "      <td>NaN</td>\n",
       "      <td>NaN</td>\n",
       "    </tr>\n",
       "    <tr>\n",
       "      <th>4</th>\n",
       "      <td>Adams_69</td>\n",
       "      <td>Adams</td>\n",
       "      <td>False</td>\n",
       "      <td>1942</td>\n",
       "      <td>1942</td>\n",
       "      <td>https://www.baseball-reference.com//players/a/...</td>\n",
       "      <td>desconocido</td>\n",
       "      <td>desconocido</td>\n",
       "      <td>desconocido</td>\n",
       "      <td>desconocido</td>\n",
       "      <td>...</td>\n",
       "      <td>0.000</td>\n",
       "      <td>0.0</td>\n",
       "      <td>1.0</td>\n",
       "      <td>0.0</td>\n",
       "      <td>0.0</td>\n",
       "      <td>0.0</td>\n",
       "      <td>0.00</td>\n",
       "      <td>0.00</td>\n",
       "      <td>0.0</td>\n",
       "      <td>0.0</td>\n",
       "    </tr>\n",
       "  </tbody>\n",
       "</table>\n",
       "<p>5 rows × 76 columns</p>\n",
       "</div>"
      ],
      "text/plain": [
       "                    Id             Name  Active  First year  Last year  \\\n",
       "0    Aaron_Altherr_320    Aaron Altherr   False        2014       2019   \n",
       "1       Abe_Atkins_626       Abe Atkins   False        1923       1923   \n",
       "2  Abiatal_Avelino_670  Abiatal Avelino   False        2018       2019   \n",
       "3  Abraham_Almonte_292  Abraham Almonte    True        2013       2021   \n",
       "4             Adams_69            Adams   False        1942       1942   \n",
       "\n",
       "                                                 Url      Country  \\\n",
       "0  https://www.baseball-reference.com//players/a/...           de   \n",
       "1  https://www.baseball-reference.com//players/a/...           us   \n",
       "2  https://www.baseball-reference.com//players/a/...           do   \n",
       "3  https://www.baseball-reference.com//players/a/...           do   \n",
       "4  https://www.baseball-reference.com//players/a/...  desconocido   \n",
       "\n",
       "      Bat hand   Throw hand             Full Name  ...  Fld%_fd  GS_fd   G_fd  \\\n",
       "0        Right        Right  Aaron Samuel Altherr  ...    0.989  494.0  669.0   \n",
       "1  desconocido  desconocido            Abe Atkins  ...    0.000    1.0    1.0   \n",
       "2        Right        Right       Abiatal Avelino  ...    0.955    6.0    7.0   \n",
       "3         Both        Right       Abraham Almonte  ...    0.973  594.0  738.0   \n",
       "4  desconocido  desconocido           desconocido  ...    0.000    0.0    1.0   \n",
       "\n",
       "   Inn_fd  PB_fd   PO_fd  RF/9_fd RF/G_fd SB_fd WP_fd  \n",
       "0  4609.0    NaN  1068.0     2.14    1.64   0.0   NaN  \n",
       "1     5.0    NaN     0.0     0.00    0.00   NaN   NaN  \n",
       "2    43.2    NaN    10.0     4.38    3.00   NaN   NaN  \n",
       "3  5299.1    NaN  1196.0     2.10    1.68   NaN   NaN  \n",
       "4     0.0    0.0     0.0     0.00    0.00   0.0   0.0  \n",
       "\n",
       "[5 rows x 76 columns]"
      ]
     },
     "execution_count": 30,
     "metadata": {},
     "output_type": "execute_result"
    }
   ],
   "source": [
    "bat_df.head()"
   ]
  },
  {
   "cell_type": "code",
   "execution_count": 41,
   "metadata": {},
   "outputs": [
    {
     "data": {
      "text/plain": [
       "(12975, 76)"
      ]
     },
     "execution_count": 41,
     "metadata": {},
     "output_type": "execute_result"
    }
   ],
   "source": [
    "bat_df.shape"
   ]
  },
  {
   "cell_type": "code",
   "execution_count": 42,
   "metadata": {},
   "outputs": [],
   "source": [
    "from Preprocessing.data_keys import headers_bio, headers_bat"
   ]
  },
  {
   "cell_type": "code",
   "execution_count": 43,
   "metadata": {},
   "outputs": [],
   "source": [
    "from Preprocessing.data_frame_procces import filter_dataset"
   ]
  },
  {
   "cell_type": "code",
   "execution_count": 44,
   "metadata": {},
   "outputs": [],
   "source": [
    "gt_conditions = {\n",
    "    \"total_seasons\":3,\n",
    "    'G_bt':100\n",
    "}\n",
    "eq_conditions = {\n",
    "    \"HoF type\":['-','Player']\n",
    "}\n",
    "filter_df = filter_dataset(bat_df, eq_conditions,gt_conditions, None, None)"
   ]
  },
  {
   "cell_type": "code",
   "execution_count": 45,
   "metadata": {},
   "outputs": [
    {
     "data": {
      "text/plain": [
       "(12975, 76)"
      ]
     },
     "execution_count": 45,
     "metadata": {},
     "output_type": "execute_result"
    }
   ],
   "source": [
    "bat_df.shape\n"
   ]
  },
  {
   "cell_type": "code",
   "execution_count": 46,
   "metadata": {},
   "outputs": [
    {
     "data": {
      "text/plain": [
       "(6168, 76)"
      ]
     },
     "execution_count": 46,
     "metadata": {},
     "output_type": "execute_result"
    }
   ],
   "source": [
    "filter_df.shape"
   ]
  },
  {
   "cell_type": "code",
   "execution_count": 47,
   "metadata": {},
   "outputs": [
    {
     "name": "stdout",
     "output_type": "stream",
     "text": [
      "CS_bt:True --->1072\n",
      "IBB_bt:True --->1519\n",
      "SB_bt:True --->38\n",
      "SF_bt:True --->2346\n",
      "SH_bt:True --->366\n",
      "SO_bt:True --->412\n",
      "CS%_fd:True --->5075\n",
      "CS_fd:True --->4286\n",
      "PB_fd:True --->4790\n",
      "SB_fd:True --->4286\n",
      "WP_fd:True --->4790\n"
     ]
    }
   ],
   "source": [
    "for h in headers_bat:\n",
    "    nan = filter_df[h].isna().any()\n",
    "    if nan:\n",
    "        print(f\"{h}:{nan} --->{filter_df[h].isna().sum()}\")\n",
    "        #print(f\"{h}:{bat_df[h].isna().sum()}\")"
   ]
  },
  {
   "cell_type": "code",
   "execution_count": 49,
   "metadata": {},
   "outputs": [
    {
     "name": "stdout",
     "output_type": "stream",
     "text": [
      "0    5972\n",
      "1     196\n",
      "Name: HoF, dtype: int64\n"
     ]
    },
    {
     "data": {
      "text/plain": [
       "-         5972\n",
       "Player     196\n",
       "Name: HoF type, dtype: int64"
      ]
     },
     "execution_count": 49,
     "metadata": {},
     "output_type": "execute_result"
    }
   ],
   "source": [
    "print(filter_df['HoF'].value_counts())\n",
    "filter_df['HoF type'].value_counts()"
   ]
  },
  {
   "cell_type": "code",
   "execution_count": 57,
   "metadata": {},
   "outputs": [],
   "source": [
    "inactives_cond = {\"Active\":[False]}\n",
    "inactive_bat_df = filter_dataset(filter_df, inactives_cond, None, None, None) "
   ]
  },
  {
   "cell_type": "code",
   "execution_count": 58,
   "metadata": {},
   "outputs": [
    {
     "data": {
      "text/plain": [
       "(5715, 76)"
      ]
     },
     "execution_count": 58,
     "metadata": {},
     "output_type": "execute_result"
    }
   ],
   "source": [
    "inactive_bat_df.shape"
   ]
  },
  {
   "cell_type": "code",
   "execution_count": 59,
   "metadata": {},
   "outputs": [
    {
     "name": "stdout",
     "output_type": "stream",
     "text": [
      "0    5519\n",
      "1     196\n",
      "Name: HoF, dtype: int64\n"
     ]
    },
    {
     "data": {
      "text/plain": [
       "-         5519\n",
       "Player     196\n",
       "Name: HoF type, dtype: int64"
      ]
     },
     "execution_count": 59,
     "metadata": {},
     "output_type": "execute_result"
    }
   ],
   "source": [
    "print(inactive_bat_df['HoF'].value_counts())\n",
    "inactive_bat_df['HoF type'].value_counts()"
   ]
  },
  {
   "cell_type": "code",
   "execution_count": null,
   "metadata": {},
   "outputs": [],
   "source": []
  }
 ],
 "metadata": {
  "interpreter": {
   "hash": "916dbcbb3f70747c44a77c7bcd40155683ae19c65e1c03b4aa3499c5328201f1"
  },
  "kernelspec": {
   "display_name": "Python 3.8.10 64-bit",
   "language": "python",
   "name": "python3"
  },
  "language_info": {
   "codemirror_mode": {
    "name": "ipython",
    "version": 3
   },
   "file_extension": ".py",
   "mimetype": "text/x-python",
   "name": "python",
   "nbconvert_exporter": "python",
   "pygments_lexer": "ipython3",
   "version": "3.8.10"
  },
  "orig_nbformat": 4
 },
 "nbformat": 4,
 "nbformat_minor": 2
}
